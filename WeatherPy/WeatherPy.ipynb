{
 "cells": [
  {
   "cell_type": "code",
   "execution_count": null,
   "metadata": {},
   "outputs": [],
   "source": [
    "# check starter code for hints"
   ]
  },
  {
   "cell_type": "code",
   "execution_count": null,
   "metadata": {},
   "outputs": [],
   "source": [
    "# import dependencies"
   ]
  },
  {
   "cell_type": "code",
   "execution_count": null,
   "metadata": {},
   "outputs": [],
   "source": [
    "# set up API access"
   ]
  },
  {
   "cell_type": "code",
   "execution_count": null,
   "metadata": {},
   "outputs": [],
   "source": [
    "# pull in data and create data frame\r\n",
    "# >= 500 unique cities\r\n",
    "# \"Include a print log of each city\" (seems excessive tbh... too much output... maybe save to txt file?)"
   ]
  },
  {
   "cell_type": "code",
   "execution_count": null,
   "metadata": {},
   "outputs": [],
   "source": [
    "# create scatter plots:\r\n",
    "# Temperature (F) vs. Latitude\r\n",
    "# Humidity (%) vs. Latitude\r\n",
    "# Cloudiness (%) vs. Latitude\r\n",
    "# Wind Speed (mph) vs. Latitude"
   ]
  },
  {
   "cell_type": "code",
   "execution_count": null,
   "metadata": {},
   "outputs": [],
   "source": [
    "# run linear regression on:\r\n",
    "# Northern Hemisphere - Temperature (F) vs. Latitude\r\n",
    "# Southern Hemisphere - Temperature (F) vs. Latitude\r\n",
    "\r\n",
    "# Northern Hemisphere - Humidity (%) vs. Latitude\r\n",
    "# Southern Hemisphere - Humidity (%) vs. Latitude\r\n",
    "\r\n",
    "# Northern Hemisphere - Cloudiness (%) vs. Latitude\r\n",
    "# Southern Hemisphere - Cloudiness (%) vs. Latitude\r\n",
    "\r\n",
    "# Northern Hemisphere - Wind Speed (mph) vs. Latitude\r\n",
    "# Southern Hemisphere - Wind Speed (mph) vs. Latitude \r\n",
    "\r\n",
    "\r\n",
    "# Pair them using subplots\r\n",
    "# Save each figure\r\n",
    "# Explain relationship for each pair"
   ]
  },
  {
   "cell_type": "code",
   "execution_count": null,
   "metadata": {},
   "outputs": [],
   "source": [
    "# save data to csv"
   ]
  }
 ],
 "metadata": {
  "language_info": {
   "name": "python",
   "nbconvert_exporter": "python"
  },
  "orig_nbformat": 4
 },
 "nbformat": 4,
 "nbformat_minor": 2
}